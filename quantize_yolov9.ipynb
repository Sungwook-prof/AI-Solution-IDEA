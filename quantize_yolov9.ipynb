{
  "nbformat": 4,
  "nbformat_minor": 0,
  "metadata": {
    "colab": {
      "provenance": []
    },
    "kernelspec": {
      "name": "python3",
      "display_name": "Python 3"
    },
    "language_info": {
      "name": "python"
    },
    "widgets": {
      "application/vnd.jupyter.widget-state+json": {
        "05a1676481144f74b763abc4baf31240": {
          "model_module": "@jupyter-widgets/output",
          "model_name": "OutputModel",
          "model_module_version": "1.0.0",
          "state": {
            "_dom_classes": [],
            "_model_module": "@jupyter-widgets/output",
            "_model_module_version": "1.0.0",
            "_model_name": "OutputModel",
            "_view_count": null,
            "_view_module": "@jupyter-widgets/output",
            "_view_module_version": "1.0.0",
            "_view_name": "OutputView",
            "layout": "IPY_MODEL_2088dac9c4d14da99017e83ea71227f0",
            "msg_id": "",
            "outputs": [
              {
                "output_type": "display_data",
                "data": {
                  "text/plain": "Statistics collection \u001b[38;2;114;156;31m━━━━━━━━━━━━━━━━━━━━━━━━━━━━━━━━━━━━━━━━━━━━━━━━━━━━━━━━━━━━\u001b[0m \u001b[35m100%\u001b[0m \u001b[38;2;0;104;181m300/300\u001b[0m • \u001b[38;2;0;104;181m0:26:34\u001b[0m • \u001b[38;2;0;104;181m0:00:00\u001b[0m\n",
                  "text/html": "<pre style=\"white-space:pre;overflow-x:auto;line-height:normal;font-family:Menlo,'DejaVu Sans Mono',consolas,'Courier New',monospace\">Statistics collection <span style=\"color: #729c1f; text-decoration-color: #729c1f\">━━━━━━━━━━━━━━━━━━━━━━━━━━━━━━━━━━━━━━━━━━━━━━━━━━━━━━━━━━━━</span> <span style=\"color: #800080; text-decoration-color: #800080\">100%</span> <span style=\"color: #0068b5; text-decoration-color: #0068b5\">300/300</span> • <span style=\"color: #0068b5; text-decoration-color: #0068b5\">0:26:34</span> • <span style=\"color: #0068b5; text-decoration-color: #0068b5\">0:00:00</span>\n</pre>\n"
                },
                "metadata": {}
              }
            ]
          }
        },
        "2088dac9c4d14da99017e83ea71227f0": {
          "model_module": "@jupyter-widgets/base",
          "model_name": "LayoutModel",
          "model_module_version": "1.2.0",
          "state": {
            "_model_module": "@jupyter-widgets/base",
            "_model_module_version": "1.2.0",
            "_model_name": "LayoutModel",
            "_view_count": null,
            "_view_module": "@jupyter-widgets/base",
            "_view_module_version": "1.2.0",
            "_view_name": "LayoutView",
            "align_content": null,
            "align_items": null,
            "align_self": null,
            "border": null,
            "bottom": null,
            "display": null,
            "flex": null,
            "flex_flow": null,
            "grid_area": null,
            "grid_auto_columns": null,
            "grid_auto_flow": null,
            "grid_auto_rows": null,
            "grid_column": null,
            "grid_gap": null,
            "grid_row": null,
            "grid_template_areas": null,
            "grid_template_columns": null,
            "grid_template_rows": null,
            "height": null,
            "justify_content": null,
            "justify_items": null,
            "left": null,
            "margin": null,
            "max_height": null,
            "max_width": null,
            "min_height": null,
            "min_width": null,
            "object_fit": null,
            "object_position": null,
            "order": null,
            "overflow": null,
            "overflow_x": null,
            "overflow_y": null,
            "padding": null,
            "right": null,
            "top": null,
            "visibility": null,
            "width": null
          }
        },
        "66a7e4da2c3243c1a43c33624067f314": {
          "model_module": "@jupyter-widgets/output",
          "model_name": "OutputModel",
          "model_module_version": "1.0.0",
          "state": {
            "_dom_classes": [],
            "_model_module": "@jupyter-widgets/output",
            "_model_module_version": "1.0.0",
            "_model_name": "OutputModel",
            "_view_count": null,
            "_view_module": "@jupyter-widgets/output",
            "_view_module_version": "1.0.0",
            "_view_name": "OutputView",
            "layout": "IPY_MODEL_82d4bd151ea64ba38479d61687f73911",
            "msg_id": "",
            "outputs": [
              {
                "output_type": "display_data",
                "data": {
                  "text/plain": "Applying Fast Bias correction \u001b[38;2;114;156;31m━━━━━━━━━━━━━━━━━━━━━━━━━━━━━━━━━━━━━━━━━━━━━━━━━━━━\u001b[0m \u001b[35m100%\u001b[0m \u001b[38;2;0;104;181m138/138\u001b[0m • \u001b[38;2;0;104;181m0:00:20\u001b[0m • \u001b[38;2;0;104;181m0:00:00\u001b[0m\n",
                  "text/html": "<pre style=\"white-space:pre;overflow-x:auto;line-height:normal;font-family:Menlo,'DejaVu Sans Mono',consolas,'Courier New',monospace\">Applying Fast Bias correction <span style=\"color: #729c1f; text-decoration-color: #729c1f\">━━━━━━━━━━━━━━━━━━━━━━━━━━━━━━━━━━━━━━━━━━━━━━━━━━━━</span> <span style=\"color: #800080; text-decoration-color: #800080\">100%</span> <span style=\"color: #0068b5; text-decoration-color: #0068b5\">138/138</span> • <span style=\"color: #0068b5; text-decoration-color: #0068b5\">0:00:20</span> • <span style=\"color: #0068b5; text-decoration-color: #0068b5\">0:00:00</span>\n</pre>\n"
                },
                "metadata": {}
              }
            ]
          }
        },
        "82d4bd151ea64ba38479d61687f73911": {
          "model_module": "@jupyter-widgets/base",
          "model_name": "LayoutModel",
          "model_module_version": "1.2.0",
          "state": {
            "_model_module": "@jupyter-widgets/base",
            "_model_module_version": "1.2.0",
            "_model_name": "LayoutModel",
            "_view_count": null,
            "_view_module": "@jupyter-widgets/base",
            "_view_module_version": "1.2.0",
            "_view_name": "LayoutView",
            "align_content": null,
            "align_items": null,
            "align_self": null,
            "border": null,
            "bottom": null,
            "display": null,
            "flex": null,
            "flex_flow": null,
            "grid_area": null,
            "grid_auto_columns": null,
            "grid_auto_flow": null,
            "grid_auto_rows": null,
            "grid_column": null,
            "grid_gap": null,
            "grid_row": null,
            "grid_template_areas": null,
            "grid_template_columns": null,
            "grid_template_rows": null,
            "height": null,
            "justify_content": null,
            "justify_items": null,
            "left": null,
            "margin": null,
            "max_height": null,
            "max_width": null,
            "min_height": null,
            "min_width": null,
            "object_fit": null,
            "object_position": null,
            "order": null,
            "overflow": null,
            "overflow_x": null,
            "overflow_y": null,
            "padding": null,
            "right": null,
            "top": null,
            "visibility": null,
            "width": null
          }
        }
      }
    }
  },
  "cells": [
    {
      "cell_type": "code",
      "execution_count": 1,
      "metadata": {
        "colab": {
          "base_uri": "https://localhost:8080/"
        },
        "id": "m0nyeIH_qtXW",
        "outputId": "50447327-b1c5-467c-a28f-7bd461f7c2fb"
      },
      "outputs": [
        {
          "output_type": "stream",
          "name": "stdout",
          "text": [
            "/content\n",
            "/content/yolov9\n"
          ]
        }
      ],
      "source": [
        "import os, glob\n",
        "from IPython.display import Image\n",
        "from google.colab import drive, userdata\n",
        "\n",
        "\n",
        "HOME = os.getcwd()\n",
        "YOLO = os.path.join(HOME, 'yolov9')\n",
        "print(HOME)\n",
        "print(YOLO)"
      ]
    },
    {
      "cell_type": "code",
      "source": [
        "# 구글 드라이브 마운트\n",
        "drive.mount('/content/drive')"
      ],
      "metadata": {
        "colab": {
          "base_uri": "https://localhost:8080/"
        },
        "id": "MWrFnhOyq9_E",
        "outputId": "9028b913-0e00-4009-e0b5-e6278b1c2fce"
      },
      "execution_count": 2,
      "outputs": [
        {
          "output_type": "stream",
          "name": "stdout",
          "text": [
            "Mounted at /content/drive\n"
          ]
        }
      ]
    },
    {
      "cell_type": "code",
      "source": [
        "pip install -q \"openvino>=2023.3.0\" \"nncf>=2.8.1\" \"opencv-python\" \"seaborn\" \"pandas\" \"scikit-learn\" \"torch\" \"torchvision\" \"tqdm\"  --extra-index-url https://download.pytorch.org/whl/cpu"
      ],
      "metadata": {
        "colab": {
          "base_uri": "https://localhost:8080/"
        },
        "id": "VAEqDkbbrENC",
        "outputId": "eb6896c1-68fc-429d-a9aa-b143c84cc4c9"
      },
      "execution_count": 3,
      "outputs": [
        {
          "output_type": "stream",
          "name": "stdout",
          "text": [
            "  Preparing metadata (setup.py) ... \u001b[?25l\u001b[?25hdone\n",
            "\u001b[2K     \u001b[90m━━━━━━━━━━━━━━━━━━━━━━━━━━━━━━━━━━━━━━━━\u001b[0m \u001b[32m68.4/68.4 kB\u001b[0m \u001b[31m3.8 MB/s\u001b[0m eta \u001b[36m0:00:00\u001b[0m\n",
            "\u001b[2K     \u001b[90m━━━━━━━━━━━━━━━━━━━━━━━━━━━━━━━━━━━━━━━━\u001b[0m \u001b[32m207.3/207.3 kB\u001b[0m \u001b[31m10.0 MB/s\u001b[0m eta \u001b[36m0:00:00\u001b[0m\n",
            "\u001b[?25h  Preparing metadata (setup.py) ... \u001b[?25l\u001b[?25hdone\n",
            "\u001b[2K   \u001b[90m━━━━━━━━━━━━━━━━━━━━━━━━━━━━━━━━━━━━━━━━\u001b[0m \u001b[32m42.6/42.6 MB\u001b[0m \u001b[31m29.1 MB/s\u001b[0m eta \u001b[36m0:00:00\u001b[0m\n",
            "\u001b[2K   \u001b[90m━━━━━━━━━━━━━━━━━━━━━━━━━━━━━━━━━━━━━━━━\u001b[0m \u001b[32m1.3/1.3 MB\u001b[0m \u001b[31m45.0 MB/s\u001b[0m eta \u001b[36m0:00:00\u001b[0m\n",
            "\u001b[2K   \u001b[90m━━━━━━━━━━━━━━━━━━━━━━━━━━━━━━━━━━━━━━━━\u001b[0m \u001b[32m307.2/307.2 kB\u001b[0m \u001b[31m18.1 MB/s\u001b[0m eta \u001b[36m0:00:00\u001b[0m\n",
            "\u001b[2K   \u001b[90m━━━━━━━━━━━━━━━━━━━━━━━━━━━━━━━━━━━━━━━━\u001b[0m \u001b[32m4.2/4.2 MB\u001b[0m \u001b[31m76.3 MB/s\u001b[0m eta \u001b[36m0:00:00\u001b[0m\n",
            "\u001b[2K   \u001b[90m━━━━━━━━━━━━━━━━━━━━━━━━━━━━━━━━━━━━━━━━\u001b[0m \u001b[32m249.1/249.1 kB\u001b[0m \u001b[31m16.9 MB/s\u001b[0m eta \u001b[36m0:00:00\u001b[0m\n",
            "\u001b[2K   \u001b[90m━━━━━━━━━━━━━━━━━━━━━━━━━━━━━━━━━━━━━━━━\u001b[0m \u001b[32m76.0/76.0 kB\u001b[0m \u001b[31m5.8 MB/s\u001b[0m eta \u001b[36m0:00:00\u001b[0m\n",
            "\u001b[2K   \u001b[90m━━━━━━━━━━━━━━━━━━━━━━━━━━━━━━━━━━━━━━━━\u001b[0m \u001b[32m119.4/119.4 kB\u001b[0m \u001b[31m9.3 MB/s\u001b[0m eta \u001b[36m0:00:00\u001b[0m\n",
            "\u001b[?25h  Building wheel for jstyleson (setup.py) ... \u001b[?25l\u001b[?25hdone\n",
            "  Building wheel for grapheme (setup.py) ... \u001b[?25l\u001b[?25hdone\n"
          ]
        }
      ]
    },
    {
      "cell_type": "code",
      "source": [
        "pip install -q \"matplotlib>=3.4\""
      ],
      "metadata": {
        "id": "QXQPvjTqrHlP"
      },
      "execution_count": 4,
      "outputs": []
    },
    {
      "cell_type": "code",
      "source": [
        "!git clone https://github.com/WongKinYiu/yolov9.git\n",
        "%cd yolov9\n",
        "!pip install -r requirements.txt -q"
      ],
      "metadata": {
        "colab": {
          "base_uri": "https://localhost:8080/"
        },
        "id": "faX7BPFArKUN",
        "outputId": "fa5b1d5f-cab2-4d32-b18d-82d3027f8b6d"
      },
      "execution_count": 6,
      "outputs": [
        {
          "output_type": "stream",
          "name": "stdout",
          "text": [
            "Cloning into 'yolov9'...\n",
            "remote: Enumerating objects: 781, done.\u001b[K\n",
            "remote: Total 781 (delta 0), reused 0 (delta 0), pack-reused 781 (from 1)\u001b[K\n",
            "Receiving objects: 100% (781/781), 3.27 MiB | 6.35 MiB/s, done.\n",
            "Resolving deltas: 100% (331/331), done.\n",
            "/content/yolov9/yolov9\n"
          ]
        }
      ]
    },
    {
      "cell_type": "markdown",
      "source": [
        "### NNCF후처리 양자화 API로 모델 최적화\n",
        "\n",
        "NNCF는 최소한의 성능 저하를 유지하면서 OpenVINO의 신경만 추론 최적화를 위한 알고리즘을 제공한다. YOLOv9을 최적화하기 위해서 후반 학습 모드로 8비트 양자화를 사용한다. 최적화 과정은 다음 단계로 구성된다.\n",
        "\n",
        "- 양자화용 데이터셋 생성\n",
        "- 최적화 모델을 얻기 위해 nncf.quantize 실행\n",
        "- ov.save_model를 사용하여 OpenVINO IR 모델 저장"
      ],
      "metadata": {
        "id": "kCylXnxrrScS"
      }
    },
    {
      "cell_type": "markdown",
      "source": [
        "#### 데이터셋 준비\n",
        "기존 데이터셋을 재사용한다. yolov9 모델의 정확도를 평가하기 위해서 사용한다."
      ],
      "metadata": {
        "id": "aHox9beQsTUg"
      }
    },
    {
      "cell_type": "code",
      "source": [
        "from collections import namedtuple\n",
        "import yaml\n",
        "from utils.dataloaders import create_dataloader\n",
        "from utils.general import colorstr\n",
        "from pathlib import Path\n",
        "\n",
        "# read dataset config\n",
        "DATA_CONFIG = '/content/drive/MyDrive/data/coco.yaml'\n",
        "with open(DATA_CONFIG) as f:\n",
        "    data = yaml.load(f, Loader=yaml.SafeLoader)\n",
        "\n",
        "# Dataloader\n",
        "TASK = \"val\"  # path to train/val/test images\n",
        "Option = namedtuple(\"Options\", [\"single_cls\"])  # imitation of commandline provided options for single class evaluation\n",
        "opt = Option(False)\n",
        "dataloader = create_dataloader(\n",
        "    str(Path(\"/content/drive/MyDrive/data/coco\") / data[TASK]),\n",
        "    640,\n",
        "    1,\n",
        "    32,\n",
        "    opt,\n",
        "    pad=0.5,\n",
        "    prefix=colorstr(f\"{TASK}: \"),\n",
        ")[0]"
      ],
      "metadata": {
        "colab": {
          "base_uri": "https://localhost:8080/"
        },
        "id": "T94ailf8rRLD",
        "outputId": "d23fe520-2749-4cf4-f11c-1b006eb45f46"
      },
      "execution_count": 8,
      "outputs": [
        {
          "output_type": "stream",
          "name": "stderr",
          "text": [
            "\u001b[34m\u001b[1mval: \u001b[0mScanning /content/drive/MyDrive/data/coco/val.cache... 2973 images, 0 backgrounds, 0 corrupt: 100%|██████████| 2973/2973 00:00\n"
          ]
        }
      ]
    },
    {
      "cell_type": "code",
      "source": [
        "import numpy as np\n",
        "import torch\n",
        "from PIL import Image\n",
        "from utils.augmentations import letterbox\n",
        "\n",
        "def preprocess_image(img0: np.ndarray):\n",
        "    \"\"\"\n",
        "    Preprocess image according to YOLOv9 input requirements.\n",
        "    Takes image in np.array format, resizes it to specific size using letterbox resize, converts color space from BGR (default in OpenCV) to RGB and changes data layout from HWC to CHW.\n",
        "\n",
        "    Parameters:\n",
        "      img0 (np.ndarray): image for preprocessing\n",
        "    Returns:\n",
        "      img (np.ndarray): image after preprocessing\n",
        "      img0 (np.ndarray): original image\n",
        "    \"\"\"\n",
        "    # resize\n",
        "    img = letterbox(img0, auto=False)[0]\n",
        "\n",
        "    # Convert\n",
        "    img = img.transpose(2, 0, 1)\n",
        "    img = np.ascontiguousarray(img)\n",
        "    return img, img0\n",
        "\n",
        "def prepare_input_tensor(image: np.ndarray):\n",
        "    \"\"\"\n",
        "    Converts preprocessed image to tensor format according to YOLOv9 input requirements.\n",
        "    Takes image in np.array format with unit8 data in [0, 255] range and converts it to torch.Tensor object with float data in [0, 1] range\n",
        "\n",
        "    Parameters:\n",
        "      image (np.ndarray): image for conversion to tensor\n",
        "    Returns:\n",
        "      input_tensor (torch.Tensor): float tensor ready to use for YOLOv9 inference\n",
        "    \"\"\"\n",
        "    input_tensor = image.astype(np.float32)  # uint8 to fp16/32\n",
        "    input_tensor /= 255.0  # 0 - 255 to 0.0 - 1.0\n",
        "\n",
        "    if input_tensor.ndim == 3:\n",
        "        input_tensor = np.expand_dims(input_tensor, 0)\n",
        "    return input_tensor"
      ],
      "metadata": {
        "id": "bMPRhpH4u8Ot"
      },
      "execution_count": 12,
      "outputs": []
    },
    {
      "cell_type": "code",
      "source": [
        "import nncf\n",
        "\n",
        "\n",
        "def transform_fn(data_item):\n",
        "    \"\"\"\n",
        "    Quantization transform function. Extracts and preprocess input data from dataloader item for quantization.\n",
        "    Parameters:\n",
        "       data_item: Tuple with data item produced by DataLoader during iteration\n",
        "    Returns:\n",
        "        input_tensor: Input data for quantization\n",
        "    \"\"\"\n",
        "    img = data_item[0].numpy()\n",
        "    input_tensor = prepare_input_tensor(img)\n",
        "    return input_tensor\n",
        "\n",
        "\n",
        "quantization_dataset = nncf.Dataset(dataloader, transform_fn)"
      ],
      "metadata": {
        "id": "BOmVdL4xtmXI"
      },
      "execution_count": 13,
      "outputs": []
    },
    {
      "cell_type": "code",
      "source": [
        "import openvino as ov\n",
        "from utils.general import yaml_save, yaml_load\n",
        "\n",
        "MODEL_DIR = Path(\"/content/drive/MyDrive/data/bin/\")\n",
        "weights = MODEL_DIR / \"best.pt\"\n",
        "ov_int8_model_path = MODEL_DIR / weights.name.replace(\".pt\", \"_int8_openvino_model\") / weights.name.replace(\".pt\", \"_int8.xml\")\n",
        "\n",
        "ov_model_path = MODEL_DIR / weights.name.replace(\".pt\", \"_openvino_model\") / weights.name.replace(\".pt\", \".xml\")\n",
        "\n",
        "core = ov.Core()\n",
        "# read converted model\n",
        "ov_model = core.read_model(ov_model_path)\n",
        "metadata = yaml_load(\"/content/drive/MyDrive/data/bin/best_openvino_model/best.yaml\")\n",
        "NAMES = metadata[\"names\"]\n",
        "\n",
        "if not ov_int8_model_path.exists():\n",
        "    quantized_model = nncf.quantize(ov_model, quantization_dataset, preset=nncf.QuantizationPreset.MIXED)\n",
        "\n",
        "    ov.save_model(quantized_model, ov_int8_model_path)\n",
        "    yaml_save(ov_int8_model_path.parent / weights.name.replace(\".pt\", \"_int8.yaml\"), metadata)"
      ],
      "metadata": {
        "colab": {
          "base_uri": "https://localhost:8080/",
          "height": 89,
          "referenced_widgets": [
            "05a1676481144f74b763abc4baf31240",
            "2088dac9c4d14da99017e83ea71227f0",
            "66a7e4da2c3243c1a43c33624067f314",
            "82d4bd151ea64ba38479d61687f73911"
          ]
        },
        "id": "l43hrzQAtrwI",
        "outputId": "4c43eafd-a5bf-43ff-ef8e-d1b4429aaefb"
      },
      "execution_count": 15,
      "outputs": [
        {
          "output_type": "display_data",
          "data": {
            "text/plain": [
              "Output()"
            ],
            "application/vnd.jupyter.widget-view+json": {
              "version_major": 2,
              "version_minor": 0,
              "model_id": "05a1676481144f74b763abc4baf31240"
            }
          },
          "metadata": {}
        },
        {
          "output_type": "display_data",
          "data": {
            "text/plain": [],
            "text/html": [
              "<pre style=\"white-space:pre;overflow-x:auto;line-height:normal;font-family:Menlo,'DejaVu Sans Mono',consolas,'Courier New',monospace\"></pre>\n"
            ]
          },
          "metadata": {}
        },
        {
          "output_type": "display_data",
          "data": {
            "text/plain": [
              "Output()"
            ],
            "application/vnd.jupyter.widget-view+json": {
              "version_major": 2,
              "version_minor": 0,
              "model_id": "66a7e4da2c3243c1a43c33624067f314"
            }
          },
          "metadata": {}
        },
        {
          "output_type": "display_data",
          "data": {
            "text/plain": [],
            "text/html": [
              "<pre style=\"white-space:pre;overflow-x:auto;line-height:normal;font-family:Menlo,'DejaVu Sans Mono',consolas,'Courier New',monospace\"></pre>\n"
            ]
          },
          "metadata": {}
        }
      ]
    }
  ]
}